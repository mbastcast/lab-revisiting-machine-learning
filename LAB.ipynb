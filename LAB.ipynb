{
 "cells": [
  {
   "cell_type": "code",
   "execution_count": 1,
   "id": "dbb526ab-8231-4be1-aeae-738feeb6a737",
   "metadata": {},
   "outputs": [],
   "source": [
    "import pandas as pd\n",
    "import numpy as np\n",
    "import datetime\n",
    "import warnings\n",
    "import matplotlib.pyplot as plt\n",
    "import seaborn as sns\n",
    "\n",
    "warnings.filterwarnings('ignore')"
   ]
  },
  {
   "cell_type": "code",
   "execution_count": 2,
   "id": "aa44b30e-a771-4cd8-8707-b0b6243d298b",
   "metadata": {},
   "outputs": [],
   "source": [
    "data = pd.read_csv('learningSet.csv')"
   ]
  },
  {
   "cell_type": "code",
   "execution_count": 3,
   "id": "405e9007-62c4-47a4-b939-8176b579a2f0",
   "metadata": {},
   "outputs": [
    {
     "data": {
      "text/plain": [
       "(95412, 481)"
      ]
     },
     "execution_count": 3,
     "metadata": {},
     "output_type": "execute_result"
    }
   ],
   "source": [
    "data.shape"
   ]
  },
  {
   "cell_type": "code",
   "execution_count": 4,
   "id": "86064222-1904-460b-b0d6-55336eef756b",
   "metadata": {},
   "outputs": [],
   "source": [
    "#Check for null values in all the columns\n",
    "\n"
   ]
  },
  {
   "cell_type": "code",
   "execution_count": 5,
   "id": "d6569556-9d3e-44cd-bee9-8fb2433aaf2c",
   "metadata": {},
   "outputs": [
    {
     "data": {
      "text/plain": [
       "ODATEDW       0\n",
       "OSOURCE       0\n",
       "TCODE         0\n",
       "STATE         0\n",
       "ZIP           0\n",
       "           ... \n",
       "MDMAUD_R      0\n",
       "MDMAUD_F      0\n",
       "MDMAUD_A      0\n",
       "CLUSTER2    132\n",
       "GEOCODE2    132\n",
       "Length: 481, dtype: int64"
      ]
     },
     "execution_count": 5,
     "metadata": {},
     "output_type": "execute_result"
    }
   ],
   "source": [
    "data.isnull().sum()"
   ]
  },
  {
   "cell_type": "code",
   "execution_count": 6,
   "id": "f1cd8344-ed6f-4f57-a793-f35455bb2cc7",
   "metadata": {},
   "outputs": [],
   "source": [
    "#Exclude the following variables by looking at the definitions. Create a new empty list called drop_list. We will append this list and then drop all the columns in this list later:\n",
    "\n",
    "#OSOURCE - symbol definitions not provided, too many categories\n",
    "#ZIP CODE - we are including state already"
   ]
  },
  {
   "cell_type": "code",
   "execution_count": 7,
   "id": "764130bf-41cc-4d3a-a04e-37b922d916b0",
   "metadata": {},
   "outputs": [],
   "source": [
    "drop_list = ['OSOURCE', 'ZIP']"
   ]
  },
  {
   "cell_type": "code",
   "execution_count": 8,
   "id": "f57f195f-f26b-4e66-8777-8e4ebf01ee02",
   "metadata": {},
   "outputs": [],
   "source": [
    "#Identify columns that over 85% missing values\n"
   ]
  },
  {
   "cell_type": "code",
   "execution_count": 9,
   "id": "48197ab8-3cc9-438f-9aa8-b62691100358",
   "metadata": {},
   "outputs": [],
   "source": [
    "nulls = data.isna().sum().sort_values(ascending = False)*100/len(data)\n",
    "nulls = nulls.reset_index()"
   ]
  },
  {
   "cell_type": "code",
   "execution_count": 10,
   "id": "6711dd8a-4748-442e-aaa2-40d77b5e0be9",
   "metadata": {},
   "outputs": [],
   "source": [
    "nulls.columns = ['column_name', 'percent']\n"
   ]
  },
  {
   "cell_type": "code",
   "execution_count": 11,
   "id": "3591dcae-c70b-4316-8d83-8d849f7ff40e",
   "metadata": {},
   "outputs": [
    {
     "data": {
      "text/html": [
       "<div>\n",
       "<style scoped>\n",
       "    .dataframe tbody tr th:only-of-type {\n",
       "        vertical-align: middle;\n",
       "    }\n",
       "\n",
       "    .dataframe tbody tr th {\n",
       "        vertical-align: top;\n",
       "    }\n",
       "\n",
       "    .dataframe thead th {\n",
       "        text-align: right;\n",
       "    }\n",
       "</style>\n",
       "<table border=\"1\" class=\"dataframe\">\n",
       "  <thead>\n",
       "    <tr style=\"text-align: right;\">\n",
       "      <th></th>\n",
       "      <th>column_name</th>\n",
       "      <th>percent</th>\n",
       "    </tr>\n",
       "  </thead>\n",
       "  <tbody>\n",
       "    <tr>\n",
       "      <th>0</th>\n",
       "      <td>RDATE_5</td>\n",
       "      <td>99.990567</td>\n",
       "    </tr>\n",
       "    <tr>\n",
       "      <th>1</th>\n",
       "      <td>RAMNT_5</td>\n",
       "      <td>99.990567</td>\n",
       "    </tr>\n",
       "    <tr>\n",
       "      <th>2</th>\n",
       "      <td>RDATE_3</td>\n",
       "      <td>99.746363</td>\n",
       "    </tr>\n",
       "    <tr>\n",
       "      <th>3</th>\n",
       "      <td>RAMNT_3</td>\n",
       "      <td>99.746363</td>\n",
       "    </tr>\n",
       "    <tr>\n",
       "      <th>4</th>\n",
       "      <td>RDATE_4</td>\n",
       "      <td>99.705488</td>\n",
       "    </tr>\n",
       "    <tr>\n",
       "      <th>...</th>\n",
       "      <td>...</td>\n",
       "      <td>...</td>\n",
       "    </tr>\n",
       "    <tr>\n",
       "      <th>476</th>\n",
       "      <td>ETHC3</td>\n",
       "      <td>0.000000</td>\n",
       "    </tr>\n",
       "    <tr>\n",
       "      <th>477</th>\n",
       "      <td>ETHC2</td>\n",
       "      <td>0.000000</td>\n",
       "    </tr>\n",
       "    <tr>\n",
       "      <th>478</th>\n",
       "      <td>ETHC1</td>\n",
       "      <td>0.000000</td>\n",
       "    </tr>\n",
       "    <tr>\n",
       "      <th>479</th>\n",
       "      <td>HHD12</td>\n",
       "      <td>0.000000</td>\n",
       "    </tr>\n",
       "    <tr>\n",
       "      <th>480</th>\n",
       "      <td>TPE11</td>\n",
       "      <td>0.000000</td>\n",
       "    </tr>\n",
       "  </tbody>\n",
       "</table>\n",
       "<p>481 rows × 2 columns</p>\n",
       "</div>"
      ],
      "text/plain": [
       "    column_name    percent\n",
       "0       RDATE_5  99.990567\n",
       "1       RAMNT_5  99.990567\n",
       "2       RDATE_3  99.746363\n",
       "3       RAMNT_3  99.746363\n",
       "4       RDATE_4  99.705488\n",
       "..          ...        ...\n",
       "476       ETHC3   0.000000\n",
       "477       ETHC2   0.000000\n",
       "478       ETHC1   0.000000\n",
       "479       HHD12   0.000000\n",
       "480       TPE11   0.000000\n",
       "\n",
       "[481 rows x 2 columns]"
      ]
     },
     "execution_count": 11,
     "metadata": {},
     "output_type": "execute_result"
    }
   ],
   "source": [
    "nulls"
   ]
  },
  {
   "cell_type": "code",
   "execution_count": 12,
   "id": "e3d935a4-d9c6-44a6-a40a-a1a5319c866b",
   "metadata": {},
   "outputs": [],
   "source": [
    "nulls=nulls.query(\"percent > 85\")"
   ]
  },
  {
   "cell_type": "code",
   "execution_count": 13,
   "id": "522101c6-7f44-450e-a7d3-d907e5204c89",
   "metadata": {},
   "outputs": [
    {
     "data": {
      "text/html": [
       "<div>\n",
       "<style scoped>\n",
       "    .dataframe tbody tr th:only-of-type {\n",
       "        vertical-align: middle;\n",
       "    }\n",
       "\n",
       "    .dataframe tbody tr th {\n",
       "        vertical-align: top;\n",
       "    }\n",
       "\n",
       "    .dataframe thead th {\n",
       "        text-align: right;\n",
       "    }\n",
       "</style>\n",
       "<table border=\"1\" class=\"dataframe\">\n",
       "  <thead>\n",
       "    <tr style=\"text-align: right;\">\n",
       "      <th></th>\n",
       "      <th>column_name</th>\n",
       "      <th>percent</th>\n",
       "    </tr>\n",
       "  </thead>\n",
       "  <tbody>\n",
       "    <tr>\n",
       "      <th>0</th>\n",
       "      <td>RDATE_5</td>\n",
       "      <td>99.990567</td>\n",
       "    </tr>\n",
       "    <tr>\n",
       "      <th>1</th>\n",
       "      <td>RAMNT_5</td>\n",
       "      <td>99.990567</td>\n",
       "    </tr>\n",
       "    <tr>\n",
       "      <th>2</th>\n",
       "      <td>RDATE_3</td>\n",
       "      <td>99.746363</td>\n",
       "    </tr>\n",
       "    <tr>\n",
       "      <th>3</th>\n",
       "      <td>RAMNT_3</td>\n",
       "      <td>99.746363</td>\n",
       "    </tr>\n",
       "    <tr>\n",
       "      <th>4</th>\n",
       "      <td>RDATE_4</td>\n",
       "      <td>99.705488</td>\n",
       "    </tr>\n",
       "    <tr>\n",
       "      <th>5</th>\n",
       "      <td>RAMNT_4</td>\n",
       "      <td>99.705488</td>\n",
       "    </tr>\n",
       "    <tr>\n",
       "      <th>6</th>\n",
       "      <td>RAMNT_6</td>\n",
       "      <td>99.186685</td>\n",
       "    </tr>\n",
       "    <tr>\n",
       "      <th>7</th>\n",
       "      <td>RDATE_6</td>\n",
       "      <td>99.186685</td>\n",
       "    </tr>\n",
       "    <tr>\n",
       "      <th>8</th>\n",
       "      <td>RAMNT_15</td>\n",
       "      <td>92.388798</td>\n",
       "    </tr>\n",
       "    <tr>\n",
       "      <th>9</th>\n",
       "      <td>RDATE_15</td>\n",
       "      <td>92.388798</td>\n",
       "    </tr>\n",
       "    <tr>\n",
       "      <th>10</th>\n",
       "      <td>RDATE_23</td>\n",
       "      <td>91.763091</td>\n",
       "    </tr>\n",
       "    <tr>\n",
       "      <th>11</th>\n",
       "      <td>RAMNT_23</td>\n",
       "      <td>91.763091</td>\n",
       "    </tr>\n",
       "    <tr>\n",
       "      <th>12</th>\n",
       "      <td>RDATE_20</td>\n",
       "      <td>91.732696</td>\n",
       "    </tr>\n",
       "    <tr>\n",
       "      <th>13</th>\n",
       "      <td>RAMNT_20</td>\n",
       "      <td>91.732696</td>\n",
       "    </tr>\n",
       "    <tr>\n",
       "      <th>14</th>\n",
       "      <td>RAMNT_7</td>\n",
       "      <td>90.677273</td>\n",
       "    </tr>\n",
       "    <tr>\n",
       "      <th>15</th>\n",
       "      <td>RDATE_7</td>\n",
       "      <td>90.677273</td>\n",
       "    </tr>\n",
       "    <tr>\n",
       "      <th>16</th>\n",
       "      <td>RAMNT_17</td>\n",
       "      <td>90.146942</td>\n",
       "    </tr>\n",
       "    <tr>\n",
       "      <th>17</th>\n",
       "      <td>RDATE_17</td>\n",
       "      <td>90.146942</td>\n",
       "    </tr>\n",
       "    <tr>\n",
       "      <th>18</th>\n",
       "      <td>RDATE_21</td>\n",
       "      <td>90.029556</td>\n",
       "    </tr>\n",
       "    <tr>\n",
       "      <th>19</th>\n",
       "      <td>RAMNT_21</td>\n",
       "      <td>90.029556</td>\n",
       "    </tr>\n",
       "    <tr>\n",
       "      <th>20</th>\n",
       "      <td>RAMNT_10</td>\n",
       "      <td>89.035970</td>\n",
       "    </tr>\n",
       "    <tr>\n",
       "      <th>21</th>\n",
       "      <td>RDATE_10</td>\n",
       "      <td>89.035970</td>\n",
       "    </tr>\n",
       "    <tr>\n",
       "      <th>22</th>\n",
       "      <td>RDATE_13</td>\n",
       "      <td>87.160944</td>\n",
       "    </tr>\n",
       "    <tr>\n",
       "      <th>23</th>\n",
       "      <td>RAMNT_13</td>\n",
       "      <td>87.160944</td>\n",
       "    </tr>\n",
       "    <tr>\n",
       "      <th>24</th>\n",
       "      <td>NUMCHLD</td>\n",
       "      <td>87.018404</td>\n",
       "    </tr>\n",
       "  </tbody>\n",
       "</table>\n",
       "</div>"
      ],
      "text/plain": [
       "   column_name    percent\n",
       "0      RDATE_5  99.990567\n",
       "1      RAMNT_5  99.990567\n",
       "2      RDATE_3  99.746363\n",
       "3      RAMNT_3  99.746363\n",
       "4      RDATE_4  99.705488\n",
       "5      RAMNT_4  99.705488\n",
       "6      RAMNT_6  99.186685\n",
       "7      RDATE_6  99.186685\n",
       "8     RAMNT_15  92.388798\n",
       "9     RDATE_15  92.388798\n",
       "10    RDATE_23  91.763091\n",
       "11    RAMNT_23  91.763091\n",
       "12    RDATE_20  91.732696\n",
       "13    RAMNT_20  91.732696\n",
       "14     RAMNT_7  90.677273\n",
       "15     RDATE_7  90.677273\n",
       "16    RAMNT_17  90.146942\n",
       "17    RDATE_17  90.146942\n",
       "18    RDATE_21  90.029556\n",
       "19    RAMNT_21  90.029556\n",
       "20    RAMNT_10  89.035970\n",
       "21    RDATE_10  89.035970\n",
       "22    RDATE_13  87.160944\n",
       "23    RAMNT_13  87.160944\n",
       "24     NUMCHLD  87.018404"
      ]
     },
     "execution_count": 13,
     "metadata": {},
     "output_type": "execute_result"
    }
   ],
   "source": [
    "nulls"
   ]
  },
  {
   "cell_type": "code",
   "execution_count": 14,
   "id": "00dbe8f6-04de-48d7-b932-eb3b794efa24",
   "metadata": {},
   "outputs": [
    {
     "data": {
      "text/plain": [
       "0      RDATE_5\n",
       "1      RAMNT_5\n",
       "2      RDATE_3\n",
       "3      RAMNT_3\n",
       "4      RDATE_4\n",
       "5      RAMNT_4\n",
       "6      RAMNT_6\n",
       "7      RDATE_6\n",
       "8     RAMNT_15\n",
       "9     RDATE_15\n",
       "10    RDATE_23\n",
       "11    RAMNT_23\n",
       "12    RDATE_20\n",
       "13    RAMNT_20\n",
       "14     RAMNT_7\n",
       "15     RDATE_7\n",
       "16    RAMNT_17\n",
       "17    RDATE_17\n",
       "18    RDATE_21\n",
       "19    RAMNT_21\n",
       "20    RAMNT_10\n",
       "21    RDATE_10\n",
       "22    RDATE_13\n",
       "23    RAMNT_13\n",
       "24     NUMCHLD\n",
       "Name: column_name, dtype: object"
      ]
     },
     "execution_count": 14,
     "metadata": {},
     "output_type": "execute_result"
    }
   ],
   "source": [
    "nulls['column_name']"
   ]
  },
  {
   "cell_type": "code",
   "execution_count": 15,
   "id": "89dc334a-44a1-4b41-9d84-34216e61c5a6",
   "metadata": {},
   "outputs": [],
   "source": [
    "#Remove those columns from the dataframe"
   ]
  },
  {
   "cell_type": "code",
   "execution_count": 16,
   "id": "b681dd8c-b376-4d87-a6b3-1e2861103b07",
   "metadata": {},
   "outputs": [],
   "source": [
    "columns=['RDATE_5', 'RAMNT_5'\n",
    ",'RDATE_3'\n",
    ",      'RAMNT_3'\n",
    ",      'RDATE_4'\n",
    ",      'RAMNT_4'\n",
    ",      'RAMNT_6'\n",
    ",      'RDATE_6'\n",
    ",     'RAMNT_15'\n",
    ",     'RDATE_15'\n",
    ",    'RDATE_23'\n",
    ",    'RAMNT_23'\n",
    ",    'RDATE_20'\n",
    ",    'RAMNT_20'\n",
    ",     'RAMNT_7'\n",
    ",     'RDATE_7'\n",
    ",    'RAMNT_17'\n",
    ",    'RDATE_17'\n",
    ",    'RDATE_21'\n",
    ",    'RAMNT_21'\n",
    ",    'RAMNT_10'\n",
    ",    'RDATE_10'\n",
    ",    'RDATE_13'\n",
    ",    'RAMNT_13'\n",
    ",     'NUMCHLD']\n"
   ]
  },
  {
   "cell_type": "code",
   "execution_count": 17,
   "id": "c90c3f22-8c04-4bb5-98a5-6b347f7310df",
   "metadata": {},
   "outputs": [],
   "source": [
    "data.drop(columns, inplace=True, axis=1)"
   ]
  },
  {
   "cell_type": "code",
   "execution_count": 18,
   "id": "3f1f9c57-3d2d-446d-b8b0-2665c9eceb6e",
   "metadata": {},
   "outputs": [
    {
     "data": {
      "text/plain": [
       "Index(['ODATEDW', 'OSOURCE', 'TCODE', 'STATE', 'ZIP', 'MAILCODE', 'PVASTATE',\n",
       "       'DOB', 'NOEXCH', 'RECINHSE',\n",
       "       ...\n",
       "       'TARGET_D', 'HPHONE_D', 'RFA_2R', 'RFA_2F', 'RFA_2A', 'MDMAUD_R',\n",
       "       'MDMAUD_F', 'MDMAUD_A', 'CLUSTER2', 'GEOCODE2'],\n",
       "      dtype='object', length=456)"
      ]
     },
     "execution_count": 18,
     "metadata": {},
     "output_type": "execute_result"
    }
   ],
   "source": [
    "data.columns"
   ]
  },
  {
   "cell_type": "code",
   "execution_count": 20,
   "id": "1f51bb15-39a3-46a9-bb11-fffd345dad65",
   "metadata": {},
   "outputs": [
    {
     "name": "stdout",
     "output_type": "stream",
     "text": [
      "F    51277\n",
      "M    39094\n",
      "      2957\n",
      "U     1715\n",
      "J      365\n",
      "C        2\n",
      "A        2\n",
      "Name: GENDER, dtype: int64\n"
     ]
    }
   ],
   "source": [
    "print(data['GENDER'].value_counts())\n"
   ]
  },
  {
   "cell_type": "code",
   "execution_count": 21,
   "id": "f294bb0b-3404-4fce-87a4-813fe0e683f4",
   "metadata": {},
   "outputs": [],
   "source": [
    "#Reduce the number of categories in the column GENDER. The column should only have either \"M\" for males, \"F\" for females, and \"other\" for all the rest\n",
    "\n",
    "#Note that there are a few null values in the column. We will first replace those null values using the code below:\n",
    "data['GENDER'] = data['GENDER'].fillna('F')"
   ]
  },
  {
   "cell_type": "code",
   "execution_count": 22,
   "id": "0167fa37-62ca-4fdc-8901-738b7ed11039",
   "metadata": {},
   "outputs": [
    {
     "name": "stdout",
     "output_type": "stream",
     "text": [
      "F    51277\n",
      "M    39094\n",
      "      2957\n",
      "U     1715\n",
      "J      365\n",
      "C        2\n",
      "A        2\n",
      "Name: GENDER, dtype: int64\n"
     ]
    }
   ],
   "source": [
    "print(data['GENDER'].value_counts())\n"
   ]
  },
  {
   "cell_type": "code",
   "execution_count": 28,
   "id": "961289d1-01ba-4914-8bc5-9ea2cd36bb57",
   "metadata": {},
   "outputs": [],
   "source": [
    "data['GENDER'] = data['GENDER'].replace([\" \", \"U\", \"J\", \"C\", \"A\"],'OTHER')\n"
   ]
  },
  {
   "cell_type": "code",
   "execution_count": 29,
   "id": "cef941ea-3066-48ad-a013-66d051b780f4",
   "metadata": {},
   "outputs": [
    {
     "name": "stdout",
     "output_type": "stream",
     "text": [
      "F        51277\n",
      "M        39094\n",
      "OTHER     5041\n",
      "Name: GENDER, dtype: int64\n"
     ]
    }
   ],
   "source": [
    "print(data['GENDER'].value_counts())\n"
   ]
  },
  {
   "cell_type": "code",
   "execution_count": null,
   "id": "9dbf6179-c566-41b1-9ace-e8d1a35e9b0c",
   "metadata": {},
   "outputs": [],
   "source": []
  }
 ],
 "metadata": {
  "kernelspec": {
   "display_name": "Python 3 (ipykernel)",
   "language": "python",
   "name": "python3"
  },
  "language_info": {
   "codemirror_mode": {
    "name": "ipython",
    "version": 3
   },
   "file_extension": ".py",
   "mimetype": "text/x-python",
   "name": "python",
   "nbconvert_exporter": "python",
   "pygments_lexer": "ipython3",
   "version": "3.9.7"
  }
 },
 "nbformat": 4,
 "nbformat_minor": 5
}
